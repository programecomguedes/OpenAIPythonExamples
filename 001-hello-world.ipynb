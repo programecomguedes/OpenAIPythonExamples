{
  "nbformat": 4,
  "nbformat_minor": 0,
  "metadata": {
    "colab": {
      "provenance": [],
      "authorship_tag": "ABX9TyO356aEO8GdbASllwTN/25k",
      "include_colab_link": true
    },
    "kernelspec": {
      "name": "python3",
      "display_name": "Python 3"
    },
    "language_info": {
      "name": "python"
    }
  },
  "cells": [
    {
      "cell_type": "markdown",
      "metadata": {
        "id": "view-in-github",
        "colab_type": "text"
      },
      "source": [
        "<a href=\"https://colab.research.google.com/github/programecomguedes/OpenAIPythonExamples/blob/main/001-hello-world.ipynb\" target=\"_parent\"><img src=\"https://colab.research.google.com/assets/colab-badge.svg\" alt=\"Open In Colab\"/></a>"
      ]
    },
    {
      "cell_type": "code",
      "execution_count": 1,
      "metadata": {
        "id": "CV_Q9GHpn3yo"
      },
      "outputs": [],
      "source": [
        "#!pip install openai"
      ]
    },
    {
      "cell_type": "code",
      "source": [
        "from openai import OpenAI\n",
        "from google.colab import userdata\n",
        "\n",
        "client = OpenAI(api_key=userdata.get('OPENAI_API_KEY'))"
      ],
      "metadata": {
        "id": "faJE0Bt_qjfw"
      },
      "execution_count": null,
      "outputs": []
    },
    {
      "cell_type": "code",
      "source": [
        "models = client.models.list()\n",
        "for model in models.data:\n",
        "  print(model.id)"
      ],
      "metadata": {
        "colab": {
          "base_uri": "https://localhost:8080/"
        },
        "id": "6rGIGExxrckx",
        "outputId": "3645ff81-1e7e-4c61-de5b-0a0dd79b542b"
      },
      "execution_count": null,
      "outputs": [
        {
          "output_type": "stream",
          "name": "stdout",
          "text": [
            "dall-e-3\n",
            "whisper-1\n",
            "tts-1\n",
            "dall-e-2\n",
            "tts-1-hd-1106\n",
            "tts-1-hd\n",
            "gpt-4-turbo-2024-04-09\n",
            "gpt-4-turbo\n",
            "gpt-4-0613\n",
            "gpt-4o-2024-05-13\n",
            "gpt-4-0125-preview\n",
            "gpt-4\n",
            "text-embedding-3-small\n",
            "gpt-4-turbo-preview\n",
            "text-embedding-3-large\n",
            "babbage-002\n",
            "gpt-4-1106-preview\n",
            "gpt-3.5-turbo-0125\n",
            "tts-1-1106\n",
            "gpt-3.5-turbo\n",
            "gpt-4o\n",
            "gpt-3.5-turbo-instruct\n",
            "gpt-3.5-turbo-instruct-0914\n",
            "gpt-3.5-turbo-1106\n",
            "text-embedding-ada-002\n",
            "gpt-3.5-turbo-16k\n",
            "davinci-002\n"
          ]
        }
      ]
    },
    {
      "cell_type": "code",
      "source": [
        "completion = client.chat.completions.create(\n",
        "    model=\"gpt-3.5-turbo\",\n",
        "    messages=[\n",
        "        {\"role\":\"user\", \"content\": \"Olá, GPT!\"}\n",
        "    ]\n",
        ")"
      ],
      "metadata": {
        "id": "aFZ2nFRSrssJ"
      },
      "execution_count": null,
      "outputs": []
    },
    {
      "cell_type": "code",
      "source": [
        "completion"
      ],
      "metadata": {
        "colab": {
          "base_uri": "https://localhost:8080/"
        },
        "id": "D689tWUqsPAS",
        "outputId": "a292c326-104d-4165-875d-3fa27259fed5"
      },
      "execution_count": null,
      "outputs": [
        {
          "output_type": "execute_result",
          "data": {
            "text/plain": [
              "ChatCompletion(id='chatcmpl-9m2XHgm9MYv5GRcRNpYg7efIAj8aP', choices=[Choice(finish_reason='stop', index=0, logprobs=None, message=ChatCompletionMessage(content='Olá! Como posso ajudar você hoje?', role='assistant', function_call=None, tool_calls=None))], created=1721236519, model='gpt-3.5-turbo-0125', object='chat.completion', service_tier=None, system_fingerprint=None, usage=CompletionUsage(completion_tokens=11, prompt_tokens=13, total_tokens=24))"
            ]
          },
          "metadata": {},
          "execution_count": 5
        }
      ]
    },
    {
      "cell_type": "code",
      "source": [
        "print(completion.choices[0].message.content)"
      ],
      "metadata": {
        "colab": {
          "base_uri": "https://localhost:8080/"
        },
        "id": "bZuGG8a9sWye",
        "outputId": "ec5cd726-583b-4aed-b269-016c5d00924c"
      },
      "execution_count": null,
      "outputs": [
        {
          "output_type": "stream",
          "name": "stdout",
          "text": [
            "Olá! Como posso ajudar você hoje?\n"
          ]
        }
      ]
    },
    {
      "cell_type": "code",
      "source": [
        "completion = client.chat.completions.create(\n",
        "    model=\"gpt-3.5-turbo\",\n",
        "    messages=[\n",
        "        {\"role\":\"user\", \"content\": \"Conte-me uma estória engraçada\"}\n",
        "    ]\n",
        ")"
      ],
      "metadata": {
        "id": "lar4QKqdspeY"
      },
      "execution_count": null,
      "outputs": []
    },
    {
      "cell_type": "code",
      "source": [
        "print(completion.choices[0].message.content)"
      ],
      "metadata": {
        "id": "QAw4f0Nes163",
        "outputId": "6ea3f842-5c0d-442d-bf1e-e1f02d1ac2a7",
        "colab": {
          "base_uri": "https://localhost:8080/"
        }
      },
      "execution_count": null,
      "outputs": [
        {
          "output_type": "stream",
          "name": "stdout",
          "text": [
            "Claro! Esta é a história de um homem chamado João, que tinha um péssimo senso de direção.\n",
            "\n",
            "Certa vez, João decidiu ir visitar um amigo que morava em uma cidade vizinha. Ele pegou o carro e começou a seguir as instruções do GPS. O problema é que, por alguma razão desconhecida, João sempre virava para o lado errado e acabava se perdendo.\n",
            "\n",
            "Depois de se perder várias vezes e dar voltas em círculos, João finalmente chegou à cidade do seu amigo, mas estava tão atrasado que decidiu ligar para ele pedindo ajuda para encontrar a casa.\n",
            "\n",
            "O amigo de João ficou surpreso e perguntou como ele conseguiu se perder em uma cidade tão pequena. João simplesmente deu de ombros e disse: \"É que meu GPS só me leva para lugares engraçados!\"\n",
            "\n",
            "E assim, João virou motivo de piada entre seus amigos por seu péssimo senso de direção, mas todos concordavam que, apesar de se perder com frequência, ele sempre acabava chegando ao seu destino, ainda que de maneira divertida.\n"
          ]
        }
      ]
    },
    {
      "cell_type": "code",
      "source": [],
      "metadata": {
        "id": "MO4_M5tis7Jx"
      },
      "execution_count": null,
      "outputs": []
    }
  ]
}
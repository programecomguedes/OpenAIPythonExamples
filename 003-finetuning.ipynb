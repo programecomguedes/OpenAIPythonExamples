{
  "nbformat": 4,
  "nbformat_minor": 0,
  "metadata": {
    "colab": {
      "provenance": [],
      "include_colab_link": true
    },
    "kernelspec": {
      "name": "python3",
      "display_name": "Python 3"
    },
    "language_info": {
      "name": "python"
    }
  },
  "cells": [
    {
      "cell_type": "markdown",
      "metadata": {
        "id": "view-in-github",
        "colab_type": "text"
      },
      "source": [
        "<a href=\"https://colab.research.google.com/github/programecomguedes/OpenAIPythonExamples/blob/main/003-finetuning.ipynb\" target=\"_parent\"><img src=\"https://colab.research.google.com/assets/colab-badge.svg\" alt=\"Open In Colab\"/></a>"
      ]
    },
    {
      "cell_type": "code",
      "execution_count": null,
      "metadata": {
        "id": "p-PmEhGaohKt"
      },
      "outputs": [],
      "source": [
        "from openai import OpenAI\n",
        "from google.colab import userdata\n",
        "\n",
        "client = OpenAI(api_key=userdata.get('OPENAI_API_KEY'))"
      ]
    },
    {
      "cell_type": "code",
      "source": [
        "# from google.colab import drive\n",
        "# drive.mount('/content/drive')"
      ],
      "metadata": {
        "id": "AfoALXkopush"
      },
      "execution_count": null,
      "outputs": []
    },
    {
      "cell_type": "code",
      "source": [
        "# adicionar uma variável pra retorno\n",
        "\n",
        "file = client.files.create(\n",
        "  file=open(\"/content/data.jsonl\", \"rb\"),\n",
        "  purpose=\"fine-tune\"\n",
        ")"
      ],
      "metadata": {
        "id": "d1CE5DMYP5uf"
      },
      "execution_count": null,
      "outputs": []
    },
    {
      "cell_type": "code",
      "source": [
        "print(file.id)"
      ],
      "metadata": {
        "id": "ZlNQSuL6qLXi"
      },
      "execution_count": null,
      "outputs": []
    },
    {
      "cell_type": "code",
      "source": [
        "files = client.files.list()\n",
        "for file in files.data:\n",
        "  print(file.id)\n",
        "  print(file.filename)"
      ],
      "metadata": {
        "id": "HmhfrHSfQ6RS"
      },
      "execution_count": null,
      "outputs": []
    },
    {
      "cell_type": "code",
      "source": [
        "job = client.fine_tuning.jobs.create(\n",
        "  training_file= file.id, #\"file-VpbQYq3xEZau2S2A8NgBAa\",\n",
        "  model=\"gpt-4o-mini-2024-07-18\"\n",
        ")"
      ],
      "metadata": {
        "id": "9HvEEhK3Q2Tt"
      },
      "execution_count": null,
      "outputs": []
    },
    {
      "cell_type": "code",
      "source": [
        "print(job.id)\n",
        "print(job.status)"
      ],
      "metadata": {
        "id": "hxrxgOPPrSs7"
      },
      "execution_count": null,
      "outputs": []
    },
    {
      "cell_type": "code",
      "source": [
        "# List 10 fine-tuning jobs\n",
        "jobs = client.fine_tuning.jobs.list(limit=10)\n",
        "for job in jobs.data:\n",
        "  print(job.id)\n",
        "  print(job.model)\n",
        "  print(job.fine_tuned_model)\n",
        "  print(job.status)\n",
        "  print(job.created_at)\n",
        "  print()"
      ],
      "metadata": {
        "id": "O76-xuDlQI7J"
      },
      "execution_count": null,
      "outputs": []
    },
    {
      "cell_type": "code",
      "source": [
        "from datetime import datetime\n",
        "datetime.fromtimestamp(1732888416)"
      ],
      "metadata": {
        "id": "36isdU4Oj-E1"
      },
      "execution_count": null,
      "outputs": []
    },
    {
      "cell_type": "code",
      "source": [
        "# Retrieve the state of a fine-tune\n",
        "jobsRetrieved = client.fine_tuning.jobs.retrieve(job.id)\n",
        "jobsRetrieved.fine_tuned_model"
      ],
      "metadata": {
        "id": "VfXC3_zcM_E0"
      },
      "execution_count": null,
      "outputs": []
    },
    {
      "cell_type": "code",
      "source": [
        "models = client.models.list()\n",
        "for model in models.data:\n",
        "  print(model.id)"
      ],
      "metadata": {
        "id": "86N1vFTYprrq"
      },
      "execution_count": null,
      "outputs": []
    },
    {
      "cell_type": "code",
      "source": [
        "completion = client.chat.completions.create(\n",
        "    model=jobsRetrieved.fine_tuned_model, #\"ft:gpt-4o-mini-2024-07-18:personal::AYvoQHsm\",\n",
        "    messages=[\n",
        "        {\"role\":\"system\", \"content\": \"Você é um assistente de incremento de valores\"}, # You are a value increment wizard\n",
        "        {\"role\":\"user\", \"content\": \"1537\"}\n",
        "    ]\n",
        ")\n",
        "print(completion.choices[0].message.content)"
      ],
      "metadata": {
        "id": "WtNJv1XEpsBU"
      },
      "execution_count": null,
      "outputs": []
    },
    {
      "cell_type": "code",
      "source": [
        "# Deleta os arquivos\n",
        "filesToDelete = client.files.list()\n",
        "for file in filesToDelete.data:\n",
        "  client.files.delete(file.id)"
      ],
      "metadata": {
        "id": "pcgMOiZlsiWh"
      },
      "execution_count": null,
      "outputs": []
    },
    {
      "cell_type": "code",
      "source": [
        "# Deleta os fine-tuned models\n",
        "jobs = client.fine_tuning.jobs.list(limit=10)\n",
        "for job in jobs.data:\n",
        "  print(job)\n",
        "  # print(job.fine_tuned_model)\n",
        "  # if job.fine_tuned_model is not None:\n",
        "  #   client.models.delete(job.fine_tuned_model)"
      ],
      "metadata": {
        "id": "NQqavLTjs5zV"
      },
      "execution_count": null,
      "outputs": []
    },
    {
      "cell_type": "code",
      "source": [
        "# Documentação\n",
        "# https://platform.openai.com/docs/guides/fine-tuning/"
      ],
      "metadata": {
        "id": "EDnmniNip0iG"
      },
      "execution_count": null,
      "outputs": []
    }
  ]
}